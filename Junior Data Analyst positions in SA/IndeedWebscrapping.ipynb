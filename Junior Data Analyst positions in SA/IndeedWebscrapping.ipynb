{
 "cells": [
  {
   "cell_type": "markdown",
   "id": "f69bd5e3",
   "metadata": {},
   "source": [
    "#IMPORTING LIBRARIES"
   ]
  },
  {
   "cell_type": "code",
   "execution_count": 1,
   "id": "e5d3ab6b",
   "metadata": {},
   "outputs": [],
   "source": [
    "from bs4 import BeautifulSoup\n",
    "from selenium import webdriver\n",
    "from selenium.webdriver.common.by import By\n",
    "from selenium.webdriver.common.keys import Keys\n",
    "from selenium.webdriver.support.ui import WebDriverWait\n",
    "from selenium.webdriver.support import expected_conditions as EC\n",
    "from tqdm import tqdm\n",
    "import numpy as np\n",
    "import pandas as pd\n",
    "import requests\n",
    "import time"
   ]
  },
  {
   "cell_type": "code",
   "execution_count": 2,
   "id": "0a6d2827",
   "metadata": {},
   "outputs": [],
   "source": [
    "driver = webdriver.Chrome(executable_path = \"C:/Users/brynm/Desktop/chromedriver_win32/chromedriver.exe\")"
   ]
  },
  {
   "cell_type": "code",
   "execution_count": 3,
   "id": "48b831c4",
   "metadata": {},
   "outputs": [],
   "source": [
    "driver.maximize_window()\n",
    "driver.get(\"https://za.indeed.com/?from=gnav-jobsearch--indeedmobile\")\n",
    "time.sleep(10)"
   ]
  },
  {
   "cell_type": "markdown",
   "id": "7720afc8",
   "metadata": {},
   "source": [
    "#INPUT JOB TITLE & LOCATION, AND SEARCHING"
   ]
  },
  {
   "cell_type": "code",
   "execution_count": 4,
   "id": "b0e84032",
   "metadata": {},
   "outputs": [],
   "source": [
    "job_title = driver.find_element(By.NAME, 'q')"
   ]
  },
  {
   "cell_type": "code",
   "execution_count": 5,
   "id": "a58c8291",
   "metadata": {},
   "outputs": [],
   "source": [
    "job_title.click()\n",
    "job_title.send_keys('junior data analyst')"
   ]
  },
  {
   "cell_type": "code",
   "execution_count": 6,
   "id": "cbf07634",
   "metadata": {},
   "outputs": [],
   "source": [
    "location = driver.find_element(By.NAME, 'l')"
   ]
  },
  {
   "cell_type": "code",
   "execution_count": 7,
   "id": "ca290f94",
   "metadata": {},
   "outputs": [],
   "source": [
    "location.click()\n",
    "location.send_keys('South Africa')"
   ]
  },
  {
   "cell_type": "code",
   "execution_count": 8,
   "id": "55d7641d",
   "metadata": {},
   "outputs": [],
   "source": [
    "search = driver.find_element(By.XPATH, '//button[@class=\"yosegi-InlineWhatWhere-primaryButton\"]')\n",
    "search.click()"
   ]
  },
  {
   "cell_type": "markdown",
   "id": "4ef17e43",
   "metadata": {},
   "source": [
    "#FETCHING JOBS"
   ]
  },
  {
   "cell_type": "code",
   "execution_count": null,
   "id": "415a08ec",
   "metadata": {},
   "outputs": [],
   "source": [
    "listOfJobs = []\n",
    "condition = True\n",
    "while condition:\n",
    "    jobs = driver.find_elements(By.CLASS_NAME,'job_seen_beacon')\n",
    "    for job in jobs:\n",
    "        link = job.find_elements(By.TAG_NAME,'h2')[0]\n",
    "        links = link.find_element(By.TAG_NAME,'a')\n",
    "        listOfJobs.append(links.get_property('href'))\n",
    "        time.sleep(5)\n",
    "    try:\n",
    "        driver.find_element(By.XPATH,'//a[@aria-label=\"Next Page\"]').click()\n",
    "        time.sleep(5)\n",
    "    except:\n",
    "        condition = False"
   ]
  },
  {
   "cell_type": "code",
   "execution_count": 10,
   "id": "8aa31a5a",
   "metadata": {},
   "outputs": [
    {
     "data": {
      "text/plain": [
       "189"
      ]
     },
     "execution_count": 10,
     "metadata": {},
     "output_type": "execute_result"
    }
   ],
   "source": [
    "len(listOfJobs)"
   ]
  },
  {
   "cell_type": "code",
   "execution_count": 11,
   "id": "36b8e719",
   "metadata": {
    "scrolled": false
   },
   "outputs": [
    {
     "data": {
      "text/plain": [
       "['https://za.indeed.com/rc/clk?jk=d623a42676025b50&fccid=bd48bdb378a3d6d4&vjs=3',\n",
       " 'https://za.indeed.com/rc/clk?jk=5cf2cb32db322c7a&fccid=fb09a4b702935704&vjs=3',\n",
       " 'https://za.indeed.com/rc/clk?jk=c676a37f878f410e&fccid=20ec8ee09e8c050b&vjs=3',\n",
       " 'https://za.indeed.com/company/LATITUDE-RESOURCE/jobs/Junior-Data-Analyst-9069176d3d574973?fccid=9bca81775f1e3010&vjs=3',\n",
       " 'https://za.indeed.com/rc/clk?jk=f145f3fec709b970&fccid=8aa263ae074bce46&vjs=3',\n",
       " 'https://za.indeed.com/rc/clk?jk=47d17003fc824cc6&fccid=59377365c949f549&vjs=3',\n",
       " 'https://za.indeed.com/company/National-Stationery-cc/jobs/Junior-Sales-Analyst-cd4eb6fbd2b0daa9?fccid=fedbd59d2be91fe4&vjs=3',\n",
       " 'https://za.indeed.com/rc/clk?jk=77dc9e2b9a3a93b6&fccid=8f5cb52d4dd4f2ad&vjs=3',\n",
       " 'https://za.indeed.com/rc/clk?jk=3939eabf01b709cf&fccid=6fa9e4cb839b1e76&vjs=3',\n",
       " 'https://za.indeed.com/company/J-Smith-Collier-&-Associates/jobs/Loan-Credit-Operation-Analyst-358cc8d48eec9083?fccid=568fd0d3dce185d9&vjs=3',\n",
       " 'https://za.indeed.com/rc/clk?jk=4ccc2a1af531a36e&fccid=eeee9a481add3f77&vjs=3',\n",
       " 'https://za.indeed.com/rc/clk?jk=7b8e6095b6b53e2d&fccid=216597317ca63017&vjs=3',\n",
       " 'https://za.indeed.com/rc/clk?jk=8f9d49ab3571ab08&fccid=c8f6edaf060dec20&vjs=3',\n",
       " 'https://za.indeed.com/company/Medialis-Ltd/jobs/Junior-Research-Analyst-1bda82c1226d48e1?fccid=0a37db6cb97c0ced&vjs=3',\n",
       " 'https://za.indeed.com/rc/clk?jk=b8e7971228f32de0&fccid=cc047e6e7a4f6456&vjs=3',\n",
       " 'https://za.indeed.com/rc/clk?jk=0428a0230271082a&fccid=eeee9a481add3f77&vjs=3',\n",
       " 'https://za.indeed.com/rc/clk?jk=185188e7c601e740&fccid=cc0e2efc29e23034&vjs=3',\n",
       " 'https://za.indeed.com/rc/clk?jk=18ee4db1f5524ee5&fccid=d74326f6d46e1454&vjs=3',\n",
       " 'https://za.indeed.com/rc/clk?jk=8e86702f1947af9c&fccid=6576e7250aa78c3c&vjs=3',\n",
       " 'https://za.indeed.com/rc/clk?jk=dc85d63d4e835d4f&fccid=b95f9eb47968fa13&vjs=3',\n",
       " 'https://za.indeed.com/company/PSG-Wealth-Distribution/jobs/Data-Analyst-fa01b0d3236f0b84?fccid=36525e56ba24b94f&vjs=3',\n",
       " 'https://za.indeed.com/rc/clk?jk=6d40a536dcaf8e4e&fccid=4cf4481dfdc4b941&vjs=3',\n",
       " 'https://za.indeed.com/rc/clk?jk=4f249597f94a0ceb&fccid=d74326f6d46e1454&vjs=3',\n",
       " 'https://za.indeed.com/rc/clk?jk=0dfb451dec72dce5&fccid=e226b9ba85d4b146&vjs=3',\n",
       " 'https://za.indeed.com/rc/clk?jk=dd0148dbf38186d0&fccid=256e09dd754c0a42&vjs=3',\n",
       " 'https://za.indeed.com/rc/clk?jk=c661a3e495d4ef3f&fccid=cb5491fdba3b459a&vjs=3',\n",
       " 'https://za.indeed.com/rc/clk?jk=86056320f01840b9&fccid=714e147560da822f&vjs=3',\n",
       " 'https://za.indeed.com/rc/clk?jk=e0fc32cf88beb8f4&fccid=771e465d83b0fd03&vjs=3',\n",
       " 'https://za.indeed.com/rc/clk?jk=d7e37b4343e5d09c&fccid=561dafb963ef6dc7&vjs=3',\n",
       " 'https://za.indeed.com/rc/clk?jk=83da72f41c86521c&fccid=2a978f78453aef31&vjs=3',\n",
       " 'https://za.indeed.com/company/Technovation/jobs/Credit-Risk-Analyst-8bb179774b9c91e2?fccid=437a82d10b870274&vjs=3',\n",
       " 'https://za.indeed.com/rc/clk?jk=1f36fdb7fb117e96&fccid=4a10f45ec469f8eb&vjs=3',\n",
       " 'https://za.indeed.com/rc/clk?jk=bb86aa7ee7c5de89&fccid=dd616958bd9ddc12&vjs=3',\n",
       " 'https://za.indeed.com/rc/clk?jk=543dbc7e0aa744d3&fccid=eeee9a481add3f77&vjs=3',\n",
       " 'https://za.indeed.com/rc/clk?jk=004353069fdaeaff&fccid=75a3a5a15b202084&vjs=3',\n",
       " 'https://za.indeed.com/rc/clk?jk=b58d5a0251458bdc&fccid=48d05924314b11bc&vjs=3',\n",
       " 'https://za.indeed.com/rc/clk?jk=f571229f1351e7b1&fccid=8aa263ae074bce46&vjs=3',\n",
       " 'https://za.indeed.com/company/J-Smith-Collier-&-Associates/jobs/Operation-Analyst-ef895e2dc86bf208?fccid=568fd0d3dce185d9&vjs=3',\n",
       " 'https://za.indeed.com/rc/clk?jk=abe2caf21d94b772&fccid=eeee9a481add3f77&vjs=3',\n",
       " 'https://za.indeed.com/rc/clk?jk=bf9d67597a6c4725&fccid=714e147560da822f&vjs=3',\n",
       " 'https://za.indeed.com/company/Smart-Worx-Group/jobs/Certified-Bussiness-Analyst-Capetown-7e57dc37877c9097?fccid=5240954931512883&vjs=3',\n",
       " 'https://za.indeed.com/rc/clk?jk=b0f751a1500d4c64&fccid=840b81a24e88ab49&vjs=3',\n",
       " 'https://za.indeed.com/company/iCore-Technologies/jobs/Bi-Hybrid-Data-Analyst-Developer-99a9a798785923f5?fccid=ac82af8a1bb44a5d&vjs=3',\n",
       " 'https://za.indeed.com/rc/clk?jk=008da642c3bde835&fccid=1544766d4c2915b0&vjs=3',\n",
       " 'https://za.indeed.com/rc/clk?jk=d805ab8d50605b2c&fccid=dd616958bd9ddc12&vjs=3',\n",
       " 'https://za.indeed.com/rc/clk?jk=29e6e5aa5f42b0e5&fccid=eeee9a481add3f77&vjs=3',\n",
       " 'https://za.indeed.com/company/Yazoo-Recruitment/jobs/Technical-Business-Analyst-594ae735b6a0c6d2?fccid=d3990945f8420c26&vjs=3',\n",
       " 'https://za.indeed.com/rc/clk?jk=99568f1f66043719&fccid=4a94602ea99c5f66&vjs=3',\n",
       " 'https://za.indeed.com/rc/clk?jk=90e36add7ad4afdd&fccid=8f5cb52d4dd4f2ad&vjs=3',\n",
       " 'https://za.indeed.com/rc/clk?jk=5e5bacdc616a8696&fccid=186757698673df73&vjs=3',\n",
       " 'https://za.indeed.com/rc/clk?jk=3309a95db46b4fe6&fccid=cfe577f04a5934ec&vjs=3',\n",
       " 'https://za.indeed.com/company/DO-MORE-Group/jobs/Finance-Analyst-51db5b214c7233d1?fccid=f95300bb882f93f6&vjs=3',\n",
       " 'https://za.indeed.com/rc/clk?jk=62e6f2b070479bf1&fccid=eeee9a481add3f77&vjs=3',\n",
       " 'https://za.indeed.com/rc/clk?jk=01c17adf4af60dec&fccid=651a65d4f7f3b6b2&vjs=3',\n",
       " 'https://za.indeed.com/rc/clk?jk=bb2950e8a74dddd7&fccid=7ca19d158e5b580d&vjs=3',\n",
       " 'https://za.indeed.com/rc/clk?jk=da1ee2fdbdbf2387&fccid=bf4df02687420f6d&vjs=3',\n",
       " 'https://za.indeed.com/rc/clk?jk=6d36f2b92cc6f84b&fccid=c08740860a28e995&vjs=3',\n",
       " 'https://za.indeed.com/rc/clk?jk=5b7bac75cadefd0a&fccid=e5b0c7e8f0872636&vjs=3',\n",
       " 'https://za.indeed.com/rc/clk?jk=6c5fb7fe54acde5c&fccid=8f5cb52d4dd4f2ad&vjs=3',\n",
       " 'https://za.indeed.com/rc/clk?jk=e8546610ed3784d1&fccid=29c75fa1468f904b&vjs=3',\n",
       " 'https://za.indeed.com/rc/clk?jk=9769c13ce2035d3b&fccid=216597317ca63017&vjs=3',\n",
       " 'https://za.indeed.com/rc/clk?jk=9c18f1bd13f50ee2&fccid=771e465d83b0fd03&vjs=3',\n",
       " 'https://za.indeed.com/rc/clk?jk=5ec511eb2a6ce681&fccid=1d117bae0aa8a391&vjs=3',\n",
       " 'https://za.indeed.com/rc/clk?jk=278144b52e331b9b&fccid=9bca81775f1e3010&vjs=3',\n",
       " 'https://za.indeed.com/rc/clk?jk=51ac29b0d647bc5e&fccid=152e270b544ecc73&vjs=3',\n",
       " 'https://za.indeed.com/rc/clk?jk=1cd9a6f83e848104&fccid=29c75fa1468f904b&vjs=3',\n",
       " 'https://za.indeed.com/rc/clk?jk=227ef675a970a79f&fccid=eeee9a481add3f77&vjs=3',\n",
       " 'https://za.indeed.com/rc/clk?jk=5506af4aa1913ba4&fccid=77087bd1709a8148&vjs=3',\n",
       " 'https://za.indeed.com/rc/clk?jk=f7bb87c00ab87ce0&fccid=cce63ff42d3c6150&vjs=3',\n",
       " 'https://za.indeed.com/rc/clk?jk=48db62c16059da03&fccid=8f5cb52d4dd4f2ad&vjs=3',\n",
       " 'https://za.indeed.com/rc/clk?jk=83c049045fdf4aff&fccid=1544766d4c2915b0&vjs=3',\n",
       " 'https://za.indeed.com/rc/clk?jk=8cd896e23da3f040&fccid=f024b5184b4561b2&vjs=3',\n",
       " 'https://za.indeed.com/rc/clk?jk=1cdb8995c16f0de8&fccid=26d01f64c124ba71&vjs=3',\n",
       " 'https://za.indeed.com/rc/clk?jk=ab03227a4240e720&fccid=9c71dbbe3501a6ae&vjs=3',\n",
       " 'https://za.indeed.com/rc/clk?jk=9225d443b261e157&fccid=eeee9a481add3f77&vjs=3',\n",
       " 'https://za.indeed.com/rc/clk?jk=2ace8f0bc5e75eec&fccid=eeee9a481add3f77&vjs=3',\n",
       " 'https://za.indeed.com/rc/clk?jk=a5d7f02a03d19ee1&fccid=26d01f64c124ba71&vjs=3',\n",
       " 'https://za.indeed.com/rc/clk?jk=09d7214231de5dfb&fccid=c8f6edaf060dec20&vjs=3',\n",
       " 'https://za.indeed.com/rc/clk?jk=e2ad6f6f727bf520&fccid=cce63ff42d3c6150&vjs=3',\n",
       " 'https://za.indeed.com/rc/clk?jk=eab97683ef03719a&fccid=eeee9a481add3f77&vjs=3',\n",
       " 'https://za.indeed.com/rc/clk?jk=9945548b42df517c&fccid=29c75fa1468f904b&vjs=3',\n",
       " 'https://za.indeed.com/rc/clk?jk=35959d80d0fa15fc&fccid=b95f9eb47968fa13&vjs=3',\n",
       " 'https://za.indeed.com/rc/clk?jk=6329a7a594135bf6&fccid=cce63ff42d3c6150&vjs=3',\n",
       " 'https://za.indeed.com/company/ResRecruit-(Pty)-Ltd/jobs/Junior-B-Bbee-Consultant-42f712aa11afc5ac?fccid=e399507e9f4f382a&vjs=3',\n",
       " 'https://za.indeed.com/rc/clk?jk=8846d52c70812549&fccid=8f5cb52d4dd4f2ad&vjs=3',\n",
       " 'https://za.indeed.com/rc/clk?jk=43793d609f6f541f&fccid=26d01f64c124ba71&vjs=3',\n",
       " 'https://za.indeed.com/rc/clk?jk=f8b1deaabbe75992&fccid=d9cf78b5cbf8e15d&vjs=3',\n",
       " 'https://za.indeed.com/company/Juru-Holding-(Pty)-Ltd/jobs/Automation-Test-Analyst-Lead-d65165df1e9967f4?fccid=427210baf97c393a&vjs=3',\n",
       " 'https://za.indeed.com/company/Total-IT-Recruitment/jobs/Senior-Data-Engineer-8c9eded06b0763e3?fccid=7df343a55893b824&vjs=3',\n",
       " 'https://za.indeed.com/rc/clk?jk=e983e95017dddc4e&fccid=eeee9a481add3f77&vjs=3',\n",
       " 'https://za.indeed.com/pagead/clk?mo=r&ad=-6NYlbfkN0A_v59KiuXAM5ATB2HAsVGPdbuv_997zwjfcr3kX_KfofeNZQRyKbSR4aPKSrWqOQZ447xtJ7l12gvQbuJByHixx5-ng2oeC1gr17zLjHb_OgxKr3Docr1vFAnmAs2KlBOIstHcpuacht0UVhs3XloshPF7Tqs5rbm0_T5EThNBoWOHYoaDpphuFX-SPkbXtXpxaqASwhtzqm0dZMfFFBMzRg3BOs9sA81CRy-pATPUrZc0U-YPxB_GBpOWgL052vLWiVDeO4IXMU4tSaJfLWz8n_1b2ZDRWFiqDA3uJKLp9vnjQS0CE9APD0m138RA6rByweLXv3OhKSv6F6emAPMARPmg2WhNE9S_8XaFgdyA2DGkzMq3Gdha9UOxgdKklmv_oTjhrcX9z-19Pji8R0DSYaLZRLhnHlPWgYE0jf1tt-LYiXd2Mq2Ndd76z8avrcPKKRY9uULqfli6PML3awiDQEo-xnZweVMBmy6ixDk4QCrM8t0FUOV9y7X3xAdm_h-FbhWoadGcYp_3GINyTX5YYrJlzYFWTvZ5_wm3QG14VaUE906lej7kcHrod4uFopYNdNN5KDcoEzfJABljdfEtWl2-NLS2FEgA9QiN5fs-Y_liWS_ZWPQPJQFXxeD5f1YBdkFXbZppdCpJBp-ayYzhiKIBikemlL8n7Xy-nlvdQJl3lig_1SHr&xkcb=SoB3-_M3WlAjH8wNAh0LbzkdCdPP&p=0&fvj=0&vjs=3',\n",
       " 'https://za.indeed.com/pagead/clk?mo=r&ad=-6NYlbfkN0Cg7HZUmJnRV4dKO0I4YgUBnE_R5BIjwxrqoegT7KJNQdExlbPfp0S1dgOxQaxuqsJIE2f_I0o0aqQmWIHcWCAeWPXNIlsht8bMLwQFgWQecr4ueqAry7Ece4WtdpLIEJop_F0k2KjSR4o6i6pH6m2pvIu7qnGIKIbvfaGUeqNfrgQWhk_rPXCiD-Wf8ji9A0ANJ1yEbSlEZazC6qHHs_zavpcdePDeiBloeLywj9ms6noiPxliBbhmoOCDQwaWDN33EHmZpTi_sslSRlCgzqaPdEcwIxioIhPGZOukjaF42SE8Ae40Le0pSPTQ5W_Vspu9QE-7u12PkYH1bnwIQZYETaDGxaSMhGIizgkLZF3VAswHKUW5V2yTt2DbL8xH7VLJV986RKMgIgA9FGYRuMgQhSVfAlqL1AW__dp1LK9i9D_I1Ozn5iVoNk-H2j7ZCRn1hM0RzmHezziAB1y2RbjqHLBNfX0dk08StEyCSDynQgNAHKJqICSN--xGHhpOBNjVBMmjVqmgh9xMQPee98UhwcL7JnvkiYfDEfnsXKh_qGDbE7BTrOyh2uryKnDVgzOskDyqXJuFvw==&xkcb=SoAu-_M3WlAjH_QNAh0LbzkdCdPP&p=1&fvj=0&vjs=3',\n",
       " 'https://za.indeed.com/rc/clk?jk=dcd4c827fcdc3884&fccid=c8f6edaf060dec20&vjs=3',\n",
       " 'https://za.indeed.com/rc/clk?jk=49543c02fe9f4027&fccid=cce63ff42d3c6150&vjs=3',\n",
       " 'https://za.indeed.com/rc/clk?jk=8896f1d6b78e2746&fccid=d50c573274bf1c1f&vjs=3',\n",
       " 'https://za.indeed.com/rc/clk?jk=c6d34c6e79e1985a&fccid=8f5cb52d4dd4f2ad&vjs=3',\n",
       " 'https://za.indeed.com/rc/clk?jk=38a9ec452fb26867&fccid=eeee9a481add3f77&vjs=3',\n",
       " 'https://za.indeed.com/rc/clk?jk=c5d5006f723e9d88&fccid=4076a97761fc15c5&vjs=3',\n",
       " 'https://za.indeed.com/rc/clk?jk=0c0b8522386c44da&fccid=cce63ff42d3c6150&vjs=3',\n",
       " 'https://za.indeed.com/rc/clk?jk=e5141d34566b544d&fccid=3531467db7a80912&vjs=3',\n",
       " 'https://za.indeed.com/rc/clk?jk=fb6689973522785f&fccid=256e09dd754c0a42&vjs=3',\n",
       " 'https://za.indeed.com/rc/clk?jk=cae5ce67d9c485d9&fccid=9e215d88a6b33622&vjs=3',\n",
       " 'https://za.indeed.com/rc/clk?jk=35bda804b5b321cc&fccid=160f8fa59bf0c42e&vjs=3',\n",
       " 'https://za.indeed.com/rc/clk?jk=06031459e5e87c03&fccid=261173cfefa40d1f&vjs=3',\n",
       " 'https://za.indeed.com/rc/clk?jk=59857adcbb365d5c&fccid=5a1ff32bf7603366&vjs=3',\n",
       " 'https://za.indeed.com/rc/clk?jk=95ab707cae6fac47&fccid=4a10f45ec469f8eb&vjs=3',\n",
       " 'https://za.indeed.com/rc/clk?jk=626c7b867d79eaae&fccid=2dd390c3a48a7ed0&vjs=3',\n",
       " 'https://za.indeed.com/rc/clk?jk=f5c0b68b5c828b3c&fccid=2738af2ae80a72bc&vjs=3',\n",
       " 'https://za.indeed.com/rc/clk?jk=31eb5989569da54b&fccid=a1b3f68f5acb4d39&vjs=3',\n",
       " 'https://za.indeed.com/rc/clk?jk=684fb630bb825d58&fccid=eafd413ea7a18b91&vjs=3',\n",
       " 'https://za.indeed.com/rc/clk?jk=7b7f911169801ced&fccid=9a48646e4602f56a&vjs=3',\n",
       " 'https://za.indeed.com/rc/clk?jk=3ad26912b46bd466&fccid=6b14176a0fb03101&vjs=3',\n",
       " 'https://za.indeed.com/rc/clk?jk=cc6c1a493989d597&fccid=d9cf78b5cbf8e15d&vjs=3',\n",
       " 'https://za.indeed.com/rc/clk?jk=1d59f5cb09310c58&fccid=9a48646e4602f56a&vjs=3',\n",
       " 'https://za.indeed.com/rc/clk?jk=dbb9aa62df47f4f2&fccid=98feb025e1328f6c&vjs=3',\n",
       " 'https://za.indeed.com/rc/clk?jk=4c9dd71101f816e6&fccid=29c75fa1468f904b&vjs=3',\n",
       " 'https://za.indeed.com/rc/clk?jk=4a592654edbd77cd&fccid=8f5cb52d4dd4f2ad&vjs=3',\n",
       " 'https://za.indeed.com/rc/clk?jk=e0882119c374a506&fccid=8aa263ae074bce46&vjs=3',\n",
       " 'https://za.indeed.com/rc/clk?jk=045511f72ecf0d1e&fccid=0c5dd71407dc64fe&vjs=3',\n",
       " 'https://za.indeed.com/rc/clk?jk=c6d786ab594a9209&fccid=9a48646e4602f56a&vjs=3',\n",
       " 'https://za.indeed.com/rc/clk?jk=80ccb7cf84d4d466&fccid=2dd390c3a48a7ed0&vjs=3',\n",
       " 'https://za.indeed.com/rc/clk?jk=1d35e0bf154047a3&fccid=26d01f64c124ba71&vjs=3',\n",
       " 'https://za.indeed.com/pagead/clk?mo=r&ad=-6NYlbfkN0A_v59KiuXAM5ATB2HAsVGPdbuv_997zwjfcr3kX_KfofeNZQRyKbSR4aPKSrWqOQaOCjJW3aa6AggB0CcBuv1nhaHRj5gsAjtLPaEc0Rehf8apTdD9j5G4jX_LlO9CmtD-rNjXuJDuYa8e-UKtwRr1BaXmmlP1jl68qAUOPfg8JBmV-eOyLGTtmA1Kc-Vrotz2Qch8aZYiXaNH7eSkGALra8YCRjSfFBrpCUhM0zfBmk2UgD0SaXL3VK1ehfHO6u9NyGtFqAl-MOxpt8G-pNyPBhs-C9odZB56XWn-OBGrttIAqcvEo9ao1pkmTqHH4ia64FCJKEJhoOUr4LBB3BYjA4vKdL_oxE9QzpY2oQBLToBhHlpN7SjUmOhaDKU4AarvPV6qrLhYyUb7KWpMKF0FrvKfJpNlEury-hjVwnTayYGc-vJAEzWlH3LSJz04WeF49YfQKeGUbVybclQrNyvpxsbcmPHXAwjjdo2n-DVvUYpcXW3ylK_mM1uwBQHFHmhW1JwqG96h-GkGzXiwnz-b0h3SwDRP7sr_Pd5kIwO5dKKO8Gl1URGfDXyt13mWJGzVT8Ag1IepkYsuKpK3QVDLqHSX8bi1pkAIKMAfjWT-2Rh_HZMpL4yRCY3ZZhwPnAG2yTtnBp7IyRg4K2Zap2OfbgsXd7CADSZQ66yBJLyB4w==&xkcb=SoCA-_M3WlBJrVxZYZ0JbzkdCdPP&p=2&fvj=0&vjs=3',\n",
       " 'https://za.indeed.com/rc/clk?jk=e0313f5c8f77add8&fccid=26d01f64c124ba71&vjs=3',\n",
       " 'https://za.indeed.com/rc/clk?jk=69c2bb3af197a5ce&fccid=eb03cfeac8e03131&vjs=3',\n",
       " 'https://za.indeed.com/pagead/clk?mo=r&ad=-6NYlbfkN0A_v59KiuXAM5ATB2HAsVGPdbuv_997zwjfcr3kX_KfofeNZQRyKbSR4aPKSrWqOQZutlhnnVA0QK-RN_CCboa5daGrE7yrApCgVbt2lRyjoiZcmNtq2HmPBYiyhK_iUmX9jhvBg8OuwTneGZdwj5xo1VluHsO1uU_UCSq1-S5mdBvuMpwhAfTFC7rJs1F3rdRWHS85ZPHcILOywAmaS88KAWekWS97yDCwwjvbM15y-oeB4rEp49pX4x2hdEFnAXrZxE8bannjYiKy3HdPpebMUEpwHjNGuROoNNm1daFsLBtoNyW49BTrs08omz6UWhNDV3MG3JVdJ3CrHLHBf0_-JXuDXrKRes41KF9GmxoBlBffIuoZFEmfpRkLWszl_65cM_hvxZ1lWr16eZWjOB2Ccw_ocvGU9UUWL_ogrm-a94XjoKiN2nmcnd-hiFMqI8pXo_rF6QQt9ysLzFChNQxztNdUXXbd3sQfTHTKJiyDRBtQk2ClV11qgoiac2JhPPQVCeJ6KrFrLTT3EKv0wqu2N0SOLvH3swKYQXvyCiks4nhNw-sacbTNegd2qtCB3beQd3nKssmB2EmngMKy1o4BnJvp04LFr9BCOWaKZLfO_tyPQI-ReH_McdDDqPi2fGO57oEBS82rrTui5EsUqtFc9kJ0MwnhumKszTTOVVDzv_LePqiROlj9&xkcb=SoAO-_M3WlBJrURZYZ0JbzkdCdPP&p=5&fvj=0&vjs=3',\n",
       " 'https://za.indeed.com/rc/clk?jk=4a182ff78d931311&fccid=26d01f64c124ba71&vjs=3',\n",
       " 'https://za.indeed.com/rc/clk?jk=5a8f05e0e4730980&fccid=8f5cb52d4dd4f2ad&vjs=3',\n",
       " 'https://za.indeed.com/rc/clk?jk=b14fc14b60f9b558&fccid=9e215d88a6b33622&vjs=3',\n",
       " 'https://za.indeed.com/rc/clk?jk=0f451f6dd05adec0&fccid=edec7064efee513f&vjs=3',\n",
       " 'https://za.indeed.com/rc/clk?jk=7ac098745f952e57&fccid=aa68da5c8e8408c1&vjs=3',\n",
       " 'https://za.indeed.com/rc/clk?jk=c57f07eb46676030&fccid=3d572f6186f2ce47&vjs=3',\n",
       " 'https://za.indeed.com/rc/clk?jk=b4f93035b544a7d8&fccid=eeee9a481add3f77&vjs=3',\n",
       " 'https://za.indeed.com/rc/clk?jk=0868d5d593fc2f62&fccid=8f5cb52d4dd4f2ad&vjs=3',\n",
       " 'https://za.indeed.com/company/Disruptive-IT/jobs/SAP-Bw-Functional-Analyst-7c05ed792f5b086b?fccid=2cfa9ee7887d02a0&vjs=3',\n",
       " 'https://za.indeed.com/rc/clk?jk=28912d7706e13b19&fccid=26d01f64c124ba71&vjs=3',\n",
       " 'https://za.indeed.com/pagead/clk?mo=r&ad=-6NYlbfkN0A_v59KiuXAM5ATB2HAsVGPdbuv_997zwjfcr3kX_KfofeNZQRyKbSR4aPKSrWqOQaOCjJW3aa6AueidLcjWk-IxS6lRRqPxfrGbBC-aH5mM557WGBpVaZFklYDNz8VBKmaESu7eFLrTqlNwPq5nA2q9N_7_c-7vYWFMtPwCKxhM9sZNb4BP8aJATg917BD3kIYcVWMMkJYkGEabuRLN4qVE9a4EaYdqQHJdpgtUEeMo3QweXYp3S4RiPTBDpbquMF8OWjV6_uvsoy63qKZntMAj6IujcDInq358MO6SlpET6vMNtuldJRbVxspRZ5wNgCeWu8bhrVywmQAh2RC_rKRXmB7XPrNkO2fAVfl__Pf_Ygq2V1N6MPFi4jlgNqwkkL58NPxUKeKHXiNYy9kRLaspEMtz0WyAi5FilQE1Fso6ANhN31eQMZdA8p9BDlS7opiAeXAlkC7t_IyXg2KJwwNSbDbXDEJiKIwqwW8PsHpO7ShQW91SAbB6GiX1ywKr79ZFvBBkKI4pIFn51QQXsI7FCPTq3gcg42889wUnEhDsTbG6mRnsWFLD_DZQEzZOgjEP6MrX2cFU3QHLohofC1gOJ3v2ZSwUkFNzJUBao5iuO3Zn1dKLS1Ccp1NphrVQxGqzi4hyCXDsRgzFWgV3BsT3j4diUeVS-QcPV5Xtkv6pOen5J7vXNe1&xkcb=SoAu-_M3WlBZOHQscR0KbzkdCdPP&p=1&fvj=0&vjs=3',\n",
       " 'https://za.indeed.com/rc/clk?jk=ec3f7fc7c7ecd53d&fccid=c8f6edaf060dec20&vjs=3',\n",
       " 'https://za.indeed.com/company/H-&-S-Labour-Brokers/jobs/Data-Scientist-d17763ed8029c601?fccid=8a8295b624a9900c&vjs=3',\n",
       " 'https://za.indeed.com/rc/clk?jk=d122fe44c5698541&fccid=186757698673df73&vjs=3',\n",
       " 'https://za.indeed.com/rc/clk?jk=9e874a5189966cfa&fccid=9a48646e4602f56a&vjs=3',\n",
       " 'https://za.indeed.com/rc/clk?jk=27bb726d4cea9776&fccid=8622bc8d4add23b9&vjs=3',\n",
       " 'https://za.indeed.com/rc/clk?jk=c0aae0296af65e7b&fccid=3639654bd4055c70&vjs=3',\n",
       " 'https://za.indeed.com/rc/clk?jk=9fc57afc6fe665df&fccid=eeee9a481add3f77&vjs=3',\n",
       " 'https://za.indeed.com/rc/clk?jk=a87c92d4f0db2689&fccid=79a26d1a3c9908e9&vjs=3',\n",
       " 'https://za.indeed.com/rc/clk?jk=93f8b4c21013b762&fccid=26d01f64c124ba71&vjs=3',\n",
       " 'https://za.indeed.com/rc/clk?jk=0db1b1566bf1e2ea&fccid=b2e474c0e227c29f&vjs=3',\n",
       " 'https://za.indeed.com/rc/clk?jk=29713fe4afd107cf&fccid=59a61e4cb6131a5f&vjs=3',\n",
       " 'https://za.indeed.com/rc/clk?jk=a3459d6d65e02478&fccid=cce63ff42d3c6150&vjs=3',\n",
       " 'https://za.indeed.com/rc/clk?jk=6f526eaa6d675048&fccid=cce63ff42d3c6150&vjs=3',\n",
       " 'https://za.indeed.com/rc/clk?jk=ea9e477d00665734&fccid=261173cfefa40d1f&vjs=3',\n",
       " 'https://za.indeed.com/rc/clk?jk=69f35eac4ecc0f10&fccid=e5f89e069169712a&vjs=3',\n",
       " 'https://za.indeed.com/rc/clk?jk=d4e99ddb81987be1&fccid=0254f6a7f703dc46&vjs=3',\n",
       " 'https://za.indeed.com/rc/clk?jk=61b57de91d52cbe7&fccid=cce63ff42d3c6150&vjs=3',\n",
       " 'https://za.indeed.com/rc/clk?jk=32d12bdf5b857a18&fccid=eb03cfeac8e03131&vjs=3',\n",
       " 'https://za.indeed.com/rc/clk?jk=887f77cd6f5852aa&fccid=cce63ff42d3c6150&vjs=3',\n",
       " 'https://za.indeed.com/rc/clk?jk=8bd51b7891783286&fccid=26d01f64c124ba71&vjs=3',\n",
       " 'https://za.indeed.com/rc/clk?jk=f892bc95403a676b&fccid=129f1687dd79e533&vjs=3',\n",
       " 'https://za.indeed.com/rc/clk?jk=dd3ab42cc9e59e4f&fccid=9a48646e4602f56a&vjs=3',\n",
       " 'https://za.indeed.com/rc/clk?jk=197f6a62139717e8&fccid=e4cdb635362dc866&vjs=3',\n",
       " 'https://za.indeed.com/rc/clk?jk=c6da6c97f14741f9&fccid=261173cfefa40d1f&vjs=3',\n",
       " 'https://za.indeed.com/rc/clk?jk=bcc822b732ef5c63&fccid=9a48646e4602f56a&vjs=3',\n",
       " 'https://za.indeed.com/rc/clk?jk=021a39b9687090e6&fccid=b716e44d2c6283e7&vjs=3',\n",
       " 'https://za.indeed.com/rc/clk?jk=39a320b2418fd9fc&fccid=0c5dd71407dc64fe&vjs=3',\n",
       " 'https://za.indeed.com/rc/clk?jk=b6d48c062f994ad0&fccid=eeee9a481add3f77&vjs=3',\n",
       " 'https://za.indeed.com/rc/clk?jk=1f6d4791cf0eb68d&fccid=5a1ff32bf7603366&vjs=3',\n",
       " 'https://za.indeed.com/rc/clk?jk=1c5ea8d66dd80592&fccid=059255870eaea946&vjs=3',\n",
       " 'https://za.indeed.com/rc/clk?jk=952bbc55408011e0&fccid=ea8882c87be559e7&vjs=3',\n",
       " 'https://za.indeed.com/rc/clk?jk=132ca386f608fb0d&fccid=8f236bae1b36b1dc&vjs=3',\n",
       " 'https://za.indeed.com/rc/clk?jk=cef440f1af9b891c&fccid=a8f020997cd25271&vjs=3',\n",
       " 'https://za.indeed.com/rc/clk?jk=b01385aa9404635b&fccid=d2fc590904a492dd&vjs=3',\n",
       " 'https://za.indeed.com/rc/clk?jk=66c5b1e19610b882&fccid=d2fc590904a492dd&vjs=3',\n",
       " 'https://za.indeed.com/rc/clk?jk=f20d07c3622423f6&fccid=0254f6a7f703dc46&vjs=3',\n",
       " 'https://za.indeed.com/rc/clk?jk=8afb7d86c1b83801&fccid=df49a9a682789d8b&vjs=3',\n",
       " 'https://za.indeed.com/rc/clk?jk=34a20d72f48cb9e1&fccid=0254f6a7f703dc46&vjs=3',\n",
       " 'https://za.indeed.com/rc/clk?jk=522feffc3258273e&fccid=9a48646e4602f56a&vjs=3',\n",
       " 'https://za.indeed.com/rc/clk?jk=4c37b79aa7bcca8c&fccid=ea8882c87be559e7&vjs=3',\n",
       " 'https://za.indeed.com/company/Jenrec-Pty-Ltd/jobs/Solution-Engineer-65125056545ccffe?fccid=93a79c42fbda46d9&vjs=3',\n",
       " 'https://za.indeed.com/rc/clk?jk=0d954d7645de61f0&fccid=eeee9a481add3f77&vjs=3',\n",
       " 'https://za.indeed.com/rc/clk?jk=2b1d6c57cd19cec3&fccid=ab5ffe63a1c89333&vjs=3',\n",
       " 'https://za.indeed.com/rc/clk?jk=3d950749bea64954&fccid=3a3d19c5f8032c18&vjs=3',\n",
       " 'https://za.indeed.com/rc/clk?jk=578c0d9a19788d3c&fccid=ea8882c87be559e7&vjs=3',\n",
       " 'https://za.indeed.com/rc/clk?jk=9d0f06b74d77fea3&fccid=d4576d7683a6a0f7&vjs=3',\n",
       " 'https://za.indeed.com/rc/clk?jk=a6d8e2d23491dedc&fccid=15fccd922877d3ff&vjs=3',\n",
       " 'https://za.indeed.com/rc/clk?jk=f44551848bf80016&fccid=9a48646e4602f56a&vjs=3',\n",
       " 'https://za.indeed.com/rc/clk?jk=8cb8d989341656e1&fccid=15fccd922877d3ff&vjs=3',\n",
       " 'https://za.indeed.com/pagead/clk?mo=r&ad=-6NYlbfkN0A_v59KiuXAM5ATB2HAsVGPdbuv_997zwjfcr3kX_KfofeNZQRyKbSR4aPKSrWqOQZM4xP9ts3c82tiY-cmqQgqs7lf9OhDTcuF91HL24Xah5uh3H_PAkEHF0VhmSE_xH4GdT-5I4sfNxMPNrrf6at1Ryb-9PZfKbjiZRQmNU16456FJVKhYRJ8GnKWYy9Wo9qK8AV97w7pu2pnVWEey99ooPTYcTl0UJ3aESOSVIYZQpzi6Ju54QYnYEc3_B4yeofBYpbaN-qZnl_CKq8ReZxEs3C9Pe_ZaJk-6SzxG9-393F7jVjm70HJl9UCOrRxafCK1iDLrg-b_iMkjnYV0p1Z4Pa5HlLInfUC89xaAyd_uKdSV34g6OeWsdKYM3eThwNqY3WaQLF0VhunuZPeDe_5FxNAXfhD-73aoO-_8Gj-xpSPj6jNhOCQ_iY7RthwkOUtDWFQyF-8ZOfxZk3dRafXsAVE0lYzlCtCw6MAAGfqDdjTMjEPoRvLItLqeiQHWWKAi8eEPXTdNuD_lfa2Z_NVdbT37RYtyxKnsY3BBVgT3u0epFD8UtvjVZvCg_61RO1sCBedpaq6dPfF5-aCrHoymJ4uVSrKyeQ6JSsL9rUppFwTeR0Hr_0s6JBAQsgOgUd9vnk-IDyR_p2WKyCZV0TVbMRIp7BCrFh0-O8ENXS66kvI0_WLyQOVwkffj1tKlXXdxdJ9U6jNQVmPqRtFiTM2&xkcb=SoAo-_M3WlBwhtgIkD0MbzkdCdPP&p=6&fvj=0&vjs=3',\n",
       " 'https://za.indeed.com/company/Jenrec-Pty-Ltd/jobs/Software-Solution-Engineer-ed86bd765110b061?fccid=93a79c42fbda46d9&vjs=3',\n",
       " 'https://za.indeed.com/rc/clk?jk=19cdf84dad27e5a1&fccid=3db57906a1fdcf19&vjs=3']"
      ]
     },
     "execution_count": 11,
     "metadata": {},
     "output_type": "execute_result"
    }
   ],
   "source": [
    "listOfJobs"
   ]
  },
  {
   "cell_type": "code",
   "execution_count": 12,
   "id": "8dada9c2",
   "metadata": {},
   "outputs": [
    {
     "name": "stderr",
     "output_type": "stream",
     "text": [
      "100%|██████████| 189/189 [38:00<00:00, 12.06s/it]\n"
     ]
    }
   ],
   "source": [
    "alldetails = []\n",
    "for i in tqdm(listOfJobs):\n",
    "    driver.get(i)\n",
    "    try:\n",
    "        title = driver.find_element(By.XPATH,'//div[@class=\"jobsearch-JobInfoHeader-title-container \"]').text\n",
    "    except:\n",
    "        title = driver.find_element(By.XPATH,'//div[@class=\"jobsearch-JobInfoHeader-title-container jobsearch-JobInfoHeader-title-containerEji\"]').text\n",
    "    company = driver.find_element(By.XPATH,'//a[@target=\"_blank\"]').text\n",
    "    try:\n",
    "        where = driver.find_element(By.XPATH,'/html/body/div[1]/div[2]/div/div[3]/div/div/div[1]/div[1]/div[2]/div[1]/div[2]/div/div/div/div[2]/div').text\n",
    "    except:\n",
    "        where = driver.find_element(By.XPATH,'/html/body/div[1]/div[2]/div/div[3]/div/div/div[1]/div[1]/div[3]/div[1]/div[2]/div/div/div/div[2]/div').text\n",
    "    try:\n",
    "        salary_job_type = driver.find_element(By.CLASS_NAME,'jobsearch-JobMetadataHeader-item ').text\n",
    "    except:\n",
    "        pass\n",
    "    job_description = driver.find_element(By.ID,'jobDescriptionText').text\n",
    "    time.sleep(5)\n",
    "    tempJ = {'title': title,\n",
    "        'company': company,\n",
    "        'where': where,\n",
    "        'salary_job_type': salary_job_type,\n",
    "        'job_description': job_description,\n",
    "        'joblink': i}\n",
    "    alldetails.append(tempJ)"
   ]
  },
  {
   "cell_type": "code",
   "execution_count": 13,
   "id": "0235a309",
   "metadata": {},
   "outputs": [
    {
     "data": {
      "text/html": [
       "<div>\n",
       "<style scoped>\n",
       "    .dataframe tbody tr th:only-of-type {\n",
       "        vertical-align: middle;\n",
       "    }\n",
       "\n",
       "    .dataframe tbody tr th {\n",
       "        vertical-align: top;\n",
       "    }\n",
       "\n",
       "    .dataframe thead th {\n",
       "        text-align: right;\n",
       "    }\n",
       "</style>\n",
       "<table border=\"1\" class=\"dataframe\">\n",
       "  <thead>\n",
       "    <tr style=\"text-align: right;\">\n",
       "      <th></th>\n",
       "      <th>title</th>\n",
       "      <th>company</th>\n",
       "      <th>where</th>\n",
       "      <th>salary_job_type</th>\n",
       "      <th>job_description</th>\n",
       "      <th>joblink</th>\n",
       "    </tr>\n",
       "  </thead>\n",
       "  <tbody>\n",
       "    <tr>\n",
       "      <th>0</th>\n",
       "      <td>Junior Business Analyst</td>\n",
       "      <td>Fidelity Services Group</td>\n",
       "      <td>Midrand, Gauteng</td>\n",
       "      <td>Permanent</td>\n",
       "      <td>Overall Purpose of the Job: The overall purpos...</td>\n",
       "      <td>https://za.indeed.com/rc/clk?jk=d623a42676025b...</td>\n",
       "    </tr>\n",
       "    <tr>\n",
       "      <th>1</th>\n",
       "      <td>Junior Data Analyst</td>\n",
       "      <td>Wunderman Thompson</td>\n",
       "      <td>Johannesburg, Gauteng</td>\n",
       "      <td>Permanent</td>\n",
       "      <td>Who we are:\\nAt Wunderman Thompson we exist to...</td>\n",
       "      <td>https://za.indeed.com/rc/clk?jk=5cf2cb32db322c...</td>\n",
       "    </tr>\n",
       "    <tr>\n",
       "      <th>2</th>\n",
       "      <td>Junior Analyst- Security</td>\n",
       "      <td>Clicks Group Limited</td>\n",
       "      <td>Cape Town, Western Cape</td>\n",
       "      <td>Permanent</td>\n",
       "      <td>Position Summary\\nIndustry: IT &amp; Internet\\nJob...</td>\n",
       "      <td>https://za.indeed.com/rc/clk?jk=c676a37f878f41...</td>\n",
       "    </tr>\n",
       "    <tr>\n",
       "      <th>3</th>\n",
       "      <td>Junior Data Analyst</td>\n",
       "      <td>Latitude Resource</td>\n",
       "      <td>Stellenbosch, Western Cape</td>\n",
       "      <td>R15 000 - R25 000 a month - Full-time, Permanent</td>\n",
       "      <td>An established niche agricultural consultancy,...</td>\n",
       "      <td>https://za.indeed.com/company/LATITUDE-RESOURC...</td>\n",
       "    </tr>\n",
       "    <tr>\n",
       "      <th>4</th>\n",
       "      <td>Claims Information Support Analyst</td>\n",
       "      <td>Santam</td>\n",
       "      <td>Johannesburg, Gauteng</td>\n",
       "      <td>R15 000 - R25 000 a month - Full-time, Permanent</td>\n",
       "      <td>About the Company\\nSantam is the market leader...</td>\n",
       "      <td>https://za.indeed.com/rc/clk?jk=f145f3fec709b9...</td>\n",
       "    </tr>\n",
       "    <tr>\n",
       "      <th>...</th>\n",
       "      <td>...</td>\n",
       "      <td>...</td>\n",
       "      <td>...</td>\n",
       "      <td>...</td>\n",
       "      <td>...</td>\n",
       "      <td>...</td>\n",
       "    </tr>\n",
       "    <tr>\n",
       "      <th>184</th>\n",
       "      <td>SENIOR JAVA DEVELOPER</td>\n",
       "      <td>Recru-IT</td>\n",
       "      <td>Centurion, Gauteng</td>\n",
       "      <td>Full-time</td>\n",
       "      <td>Role Purpose:\\nDevelop, maintain and support m...</td>\n",
       "      <td>https://za.indeed.com/rc/clk?jk=f44551848bf800...</td>\n",
       "    </tr>\n",
       "    <tr>\n",
       "      <th>185</th>\n",
       "      <td>Senior C# Dot Net Development</td>\n",
       "      <td>Amasiko Group</td>\n",
       "      <td>Johannesburg, Gauteng</td>\n",
       "      <td>Full-time</td>\n",
       "      <td>Purpose:\\nTo be involved in the development of...</td>\n",
       "      <td>https://za.indeed.com/rc/clk?jk=8cb8d989341656...</td>\n",
       "    </tr>\n",
       "    <tr>\n",
       "      <th>186</th>\n",
       "      <td>IT Senior Software Developer (Mobile Front-End...</td>\n",
       "      <td>A 1L Realization (Pty) Ltd</td>\n",
       "      <td>Centurion, Gauteng</td>\n",
       "      <td>Full-time</td>\n",
       "      <td>Purpose of the Position\\nTo design, execute, a...</td>\n",
       "      <td>https://za.indeed.com/pagead/clk?mo=r&amp;ad=-6NYl...</td>\n",
       "    </tr>\n",
       "    <tr>\n",
       "      <th>187</th>\n",
       "      <td>Software Solutions Engineer - Cape Town</td>\n",
       "      <td>Jenrec Pty Ltd</td>\n",
       "      <td>Cape Town, Western Cape</td>\n",
       "      <td>R35 000 - R50 000 a month - Full-time</td>\n",
       "      <td>Town\\nIT Software House based at the feet of T...</td>\n",
       "      <td>https://za.indeed.com/company/Jenrec-Pty-Ltd/j...</td>\n",
       "    </tr>\n",
       "    <tr>\n",
       "      <th>188</th>\n",
       "      <td>Intermediate Developer</td>\n",
       "      <td>Hire Resolve</td>\n",
       "      <td>Cape Town, Western Cape</td>\n",
       "      <td>Full-time</td>\n",
       "      <td>A well-established client of ours is currently...</td>\n",
       "      <td>https://za.indeed.com/rc/clk?jk=19cdf84dad27e5...</td>\n",
       "    </tr>\n",
       "  </tbody>\n",
       "</table>\n",
       "<p>189 rows × 6 columns</p>\n",
       "</div>"
      ],
      "text/plain": [
       "                                                 title  \\\n",
       "0                              Junior Business Analyst   \n",
       "1                                  Junior Data Analyst   \n",
       "2                             Junior Analyst- Security   \n",
       "3                                  Junior Data Analyst   \n",
       "4                   Claims Information Support Analyst   \n",
       "..                                                 ...   \n",
       "184                              SENIOR JAVA DEVELOPER   \n",
       "185                      Senior C# Dot Net Development   \n",
       "186  IT Senior Software Developer (Mobile Front-End...   \n",
       "187            Software Solutions Engineer - Cape Town   \n",
       "188                             Intermediate Developer   \n",
       "\n",
       "                        company                       where  \\\n",
       "0       Fidelity Services Group            Midrand, Gauteng   \n",
       "1            Wunderman Thompson       Johannesburg, Gauteng   \n",
       "2          Clicks Group Limited     Cape Town, Western Cape   \n",
       "3             Latitude Resource  Stellenbosch, Western Cape   \n",
       "4                        Santam       Johannesburg, Gauteng   \n",
       "..                          ...                         ...   \n",
       "184                    Recru-IT          Centurion, Gauteng   \n",
       "185               Amasiko Group       Johannesburg, Gauteng   \n",
       "186  A 1L Realization (Pty) Ltd          Centurion, Gauteng   \n",
       "187              Jenrec Pty Ltd     Cape Town, Western Cape   \n",
       "188                Hire Resolve     Cape Town, Western Cape   \n",
       "\n",
       "                                      salary_job_type  \\\n",
       "0                                           Permanent   \n",
       "1                                           Permanent   \n",
       "2                                           Permanent   \n",
       "3    R15 000 - R25 000 a month - Full-time, Permanent   \n",
       "4    R15 000 - R25 000 a month - Full-time, Permanent   \n",
       "..                                                ...   \n",
       "184                                         Full-time   \n",
       "185                                         Full-time   \n",
       "186                                         Full-time   \n",
       "187             R35 000 - R50 000 a month - Full-time   \n",
       "188                                         Full-time   \n",
       "\n",
       "                                       job_description  \\\n",
       "0    Overall Purpose of the Job: The overall purpos...   \n",
       "1    Who we are:\\nAt Wunderman Thompson we exist to...   \n",
       "2    Position Summary\\nIndustry: IT & Internet\\nJob...   \n",
       "3    An established niche agricultural consultancy,...   \n",
       "4    About the Company\\nSantam is the market leader...   \n",
       "..                                                 ...   \n",
       "184  Role Purpose:\\nDevelop, maintain and support m...   \n",
       "185  Purpose:\\nTo be involved in the development of...   \n",
       "186  Purpose of the Position\\nTo design, execute, a...   \n",
       "187  Town\\nIT Software House based at the feet of T...   \n",
       "188  A well-established client of ours is currently...   \n",
       "\n",
       "                                               joblink  \n",
       "0    https://za.indeed.com/rc/clk?jk=d623a42676025b...  \n",
       "1    https://za.indeed.com/rc/clk?jk=5cf2cb32db322c...  \n",
       "2    https://za.indeed.com/rc/clk?jk=c676a37f878f41...  \n",
       "3    https://za.indeed.com/company/LATITUDE-RESOURC...  \n",
       "4    https://za.indeed.com/rc/clk?jk=f145f3fec709b9...  \n",
       "..                                                 ...  \n",
       "184  https://za.indeed.com/rc/clk?jk=f44551848bf800...  \n",
       "185  https://za.indeed.com/rc/clk?jk=8cb8d989341656...  \n",
       "186  https://za.indeed.com/pagead/clk?mo=r&ad=-6NYl...  \n",
       "187  https://za.indeed.com/company/Jenrec-Pty-Ltd/j...  \n",
       "188  https://za.indeed.com/rc/clk?jk=19cdf84dad27e5...  \n",
       "\n",
       "[189 rows x 6 columns]"
      ]
     },
     "execution_count": 13,
     "metadata": {},
     "output_type": "execute_result"
    }
   ],
   "source": [
    "df = pd.DataFrame(alldetails)\n",
    "df"
   ]
  },
  {
   "cell_type": "code",
   "execution_count": 14,
   "id": "9f11510d",
   "metadata": {},
   "outputs": [],
   "source": [
    "with pd.ExcelWriter('IndeedJobs.xlsx') as writer:\n",
    "    df.to_excel(writer, sheet_name = 'LinkedInJobs', index = False)"
   ]
  },
  {
   "cell_type": "code",
   "execution_count": null,
   "id": "cfaba33c",
   "metadata": {},
   "outputs": [],
   "source": []
  },
  {
   "cell_type": "code",
   "execution_count": null,
   "id": "cf34c85d",
   "metadata": {},
   "outputs": [],
   "source": [
    "try:\n",
    "    salary_job_type = driver.find_element(By.CLASS_NAME,'jobsearch-JobMetadataHeader-item ').text\n",
    "else:\n",
    "    pass"
   ]
  },
  {
   "cell_type": "code",
   "execution_count": null,
   "id": "7df39bbc",
   "metadata": {},
   "outputs": [],
   "source": []
  },
  {
   "cell_type": "code",
   "execution_count": null,
   "id": "e79d7eca",
   "metadata": {},
   "outputs": [],
   "source": []
  },
  {
   "cell_type": "code",
   "execution_count": null,
   "id": "1a6fe546",
   "metadata": {},
   "outputs": [],
   "source": []
  },
  {
   "cell_type": "code",
   "execution_count": null,
   "id": "42cb8d92",
   "metadata": {},
   "outputs": [],
   "source": [
    "title = driver.find_element(By.XPATH,'//div[@class=\"jobsearch-JobInfoHeader-title-container \"]').text\n",
    "company = driver.find_element(By.XPATH,'//a[@target=\"_blank\"]').text\n",
    "where = driver.find_element(By.XPATH,'/html/body/div[1]/div[2]/div/div[3]/div/div/div[1]/div[1]/div[2]/div[1]/div[2]/div/div/div/div[2]/div').text\n",
    "salary_job_type = driver.find_element(By.CLASS_NAME,'jobsearch-JobMetadataHeader-item ').text\n",
    "job_description = driver.find_element(By.ID,'jobDescriptionText').text"
   ]
  },
  {
   "cell_type": "code",
   "execution_count": null,
   "id": "113a5bb8",
   "metadata": {},
   "outputs": [],
   "source": [
    "tempJ = {'title': title,\n",
    "        'company': company,\n",
    "        'where': where,\n",
    "         if salary_job_type:\n",
    "             print(f\"salary_job_type: {salary_job_type} \")\n",
    "         else:\n",
    "            print(\"Salary not specified\"),\n",
    "        'job_description': job_description,\n",
    "        'joblink': ''}"
   ]
  },
  {
   "cell_type": "code",
   "execution_count": null,
   "id": "a8fb36ae",
   "metadata": {},
   "outputs": [],
   "source": []
  },
  {
   "cell_type": "code",
   "execution_count": null,
   "id": "09fcb8a9",
   "metadata": {},
   "outputs": [],
   "source": [
    "title = driver.find_element(By.XPATH,'//div[@class=\"jobsearch-JobInfoHeader-title-container \"]').text\n",
    "print(title)"
   ]
  },
  {
   "cell_type": "code",
   "execution_count": null,
   "id": "5dacfdac",
   "metadata": {},
   "outputs": [],
   "source": [
    "company = driver.find_element(By.XPATH,'//a[@target=\"_blank\"]').text\n",
    "print(company)"
   ]
  },
  {
   "cell_type": "code",
   "execution_count": null,
   "id": "58bd3dbf",
   "metadata": {},
   "outputs": [],
   "source": [
    "where = driver.find_element(By.XPATH,'/html/body/div[1]/div[2]/div/div[3]/div/div/div[1]/div[1]/div[2]/div[1]/div[2]/div/div/div/div[2]/div').text\n",
    "print(where)"
   ]
  },
  {
   "cell_type": "code",
   "execution_count": null,
   "id": "325b1384",
   "metadata": {},
   "outputs": [],
   "source": [
    "salary_job_type = driver.find_element(By.CLASS_NAME,'jobsearch-JobMetadataHeader-item ').text\n",
    "print(salary_job_type)"
   ]
  },
  {
   "cell_type": "code",
   "execution_count": null,
   "id": "e8fb1149",
   "metadata": {},
   "outputs": [],
   "source": [
    "job_description = driver.find_element(By.ID,'jobDescriptionText').text\n",
    "print(job_description)"
   ]
  },
  {
   "cell_type": "code",
   "execution_count": null,
   "id": "d5476db5",
   "metadata": {},
   "outputs": [],
   "source": [
    "print(f\"Position: {title.text} \")"
   ]
  },
  {
   "cell_type": "code",
   "execution_count": null,
   "id": "980d72f1",
   "metadata": {},
   "outputs": [],
   "source": [
    "#print(f\"Company: {company.text} \")"
   ]
  },
  {
   "cell_type": "code",
   "execution_count": null,
   "id": "11356ed0",
   "metadata": {},
   "outputs": [],
   "source": [
    "#print(f\"Location: {where.text} \")"
   ]
  },
  {
   "cell_type": "code",
   "execution_count": null,
   "id": "5bce5832",
   "metadata": {},
   "outputs": [],
   "source": [
    "if salary:\n",
    "    print(f\"Salary_Range: {salary.text} \")\n",
    "else:\n",
    "    print(\"Salary not specified\")"
   ]
  },
  {
   "cell_type": "code",
   "execution_count": null,
   "id": "66241d0d",
   "metadata": {},
   "outputs": [],
   "source": [
    "#if job_type:\n",
    "    #print(f\"Job_type: {salary.text} \")\n",
    "#else:\n",
    "    #print(\"Job type not specified\")"
   ]
  },
  {
   "cell_type": "code",
   "execution_count": null,
   "id": "c855ba7f",
   "metadata": {},
   "outputs": [],
   "source": [
    "#print(f\"Job_Description: {job_description.text} \")"
   ]
  },
  {
   "cell_type": "code",
   "execution_count": null,
   "id": "20a802d5",
   "metadata": {},
   "outputs": [],
   "source": []
  },
  {
   "cell_type": "code",
   "execution_count": null,
   "id": "553d833b",
   "metadata": {},
   "outputs": [],
   "source": []
  },
  {
   "cell_type": "code",
   "execution_count": null,
   "id": "07faadaa",
   "metadata": {},
   "outputs": [],
   "source": []
  },
  {
   "cell_type": "code",
   "execution_count": null,
   "id": "8d2de6b3",
   "metadata": {},
   "outputs": [],
   "source": []
  },
  {
   "cell_type": "code",
   "execution_count": null,
   "id": "e1415f59",
   "metadata": {},
   "outputs": [],
   "source": []
  },
  {
   "cell_type": "code",
   "execution_count": null,
   "id": "091e420b",
   "metadata": {},
   "outputs": [],
   "source": []
  },
  {
   "cell_type": "code",
   "execution_count": null,
   "id": "16511f31",
   "metadata": {},
   "outputs": [],
   "source": []
  },
  {
   "cell_type": "code",
   "execution_count": null,
   "id": "3b5db0a2",
   "metadata": {},
   "outputs": [],
   "source": []
  },
  {
   "cell_type": "code",
   "execution_count": null,
   "id": "c12de248",
   "metadata": {},
   "outputs": [],
   "source": []
  },
  {
   "cell_type": "code",
   "execution_count": null,
   "id": "a6418a8a",
   "metadata": {},
   "outputs": [],
   "source": []
  },
  {
   "cell_type": "code",
   "execution_count": null,
   "id": "8d8be9ea",
   "metadata": {},
   "outputs": [],
   "source": []
  },
  {
   "cell_type": "code",
   "execution_count": null,
   "id": "c80809c3",
   "metadata": {},
   "outputs": [],
   "source": []
  }
 ],
 "metadata": {
  "kernelspec": {
   "display_name": "Python 3 (ipykernel)",
   "language": "python",
   "name": "python3"
  },
  "language_info": {
   "codemirror_mode": {
    "name": "ipython",
    "version": 3
   },
   "file_extension": ".py",
   "mimetype": "text/x-python",
   "name": "python",
   "nbconvert_exporter": "python",
   "pygments_lexer": "ipython3",
   "version": "3.9.12"
  }
 },
 "nbformat": 4,
 "nbformat_minor": 5
}
